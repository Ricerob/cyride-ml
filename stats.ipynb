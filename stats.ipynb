{
 "cells": [
  {
   "cell_type": "markdown",
   "metadata": {},
   "source": [
    "# CyRide ML\n",
    "This notebook will be an exploratory 'lab' in which I use CyRide data to calculate some statistics and do some light machine learning. For now, I'm just using data from Febuary, but once a more precise learning goal is described, I will use the combined dataset (October 2021 to June 2022)."
   ]
  },
  {
   "cell_type": "markdown",
   "metadata": {},
   "source": [
    "## Imports & Installations"
   ]
  },
  {
   "cell_type": "code",
   "execution_count": null,
   "metadata": {},
   "outputs": [],
   "source": [
    "!python3 -m pip install pandas numpy scikit-learn"
   ]
  },
  {
   "cell_type": "code",
   "execution_count": 43,
   "metadata": {},
   "outputs": [],
   "source": [
    "import pandas as pd\n",
    "import numpy as mp\n",
    "from sklearn.model_selection import train_test_split\n",
    "from sklearn.metrics import mean_absolute_error\n",
    "from sklearn.ensemble import RandomForestRegressor\n",
    "from sklearn.preprocessing import LabelEncoder\n",
    "from dateutil import parser"
   ]
  },
  {
   "cell_type": "markdown",
   "metadata": {},
   "source": [
    "## Reading in Data"
   ]
  },
  {
   "cell_type": "code",
   "execution_count": null,
   "metadata": {},
   "outputs": [],
   "source": [
    "october_2021 = pd.read_csv('./data/2021_10.csv')\n",
    "november_2021 = pd.read_csv('./data/2021_11.csv')\n",
    "december_2021 = pd.read_csv('./data/2021_12.csv')\n",
    "january_2022 = pd.read_csv('./data/2022_01.csv')\n",
    "february_2022 = pd.read_csv('./data/2022_02.csv')\n",
    "march_2022 = pd.read_csv('./data/2022_03.csv')\n",
    "april_2022 = pd.read_csv('./data/2022_04.csv')\n",
    "may_2022 = pd.read_csv('./data/2022_05.csv')\n",
    "june_2022 = pd.read_csv('./data/2022_06.csv')\n",
    "\n",
    "frames = [october_2021, november_2021, december_2021, january_2022, february_2022, march_2022, april_2022, may_2022, june_2022]\n",
    "combined_data = pd.concat(frames)\n",
    "\n",
    "combined_data.drop(['VehicleName', 'route', 'pattern', 'PatternName', 'stop', 'trip', 'tripName', 'block', 'ons', 'offs'], axis=1, inplace=True)"
   ]
  },
  {
   "cell_type": "code",
   "execution_count": null,
   "metadata": {},
   "outputs": [],
   "source": [
    "# combined_data.head()\n",
    "print(combined_data.columns)\n"
   ]
  },
  {
   "cell_type": "markdown",
   "metadata": {},
   "source": [
    "## Preprocessing\n",
    "I need to create a 'arrival diff' and 'departure diff' to see how far apart these values are. I also need to encode some categorical data."
   ]
  },
  {
   "cell_type": "code",
   "execution_count": 28,
   "metadata": {},
   "outputs": [],
   "source": [
    " february_2022 = february_2022.assign(departure_diff = february_2022.apply(lambda row: \n",
    "    pd.Timedelta(parser.parse(row.scheduled_depart) -\n",
    "    parser.parse(row.depart)).total_seconds()\n",
    ", axis=1))\n",
    "\n",
    " february_2022 = february_2022.assign(arrival_diff = february_2022.apply(lambda row: \n",
    "    pd.Timedelta(parser.parse(row.scheduled_arrive) -\n",
    "    parser.parse(row.arrive)).total_seconds()\n",
    ", axis=1))\n",
    "\n"
   ]
  },
  {
   "cell_type": "markdown",
   "metadata": {},
   "source": [
    "On any diff, a value x < 0 means it was x minutes late, while a positive value means it was early."
   ]
  },
  {
   "cell_type": "code",
   "execution_count": 29,
   "metadata": {},
   "outputs": [
    {
     "data": {
      "text/html": [
       "<div>\n",
       "<style scoped>\n",
       "    .dataframe tbody tr th:only-of-type {\n",
       "        vertical-align: middle;\n",
       "    }\n",
       "\n",
       "    .dataframe tbody tr th {\n",
       "        vertical-align: top;\n",
       "    }\n",
       "\n",
       "    .dataframe thead th {\n",
       "        text-align: right;\n",
       "    }\n",
       "</style>\n",
       "<table border=\"1\" class=\"dataframe\">\n",
       "  <thead>\n",
       "    <tr style=\"text-align: right;\">\n",
       "      <th></th>\n",
       "      <th>RouteName</th>\n",
       "      <th>StopName</th>\n",
       "      <th>arrive</th>\n",
       "      <th>scheduled_arrive</th>\n",
       "      <th>arrival_diff</th>\n",
       "      <th>depart</th>\n",
       "      <th>scheduled_depart</th>\n",
       "      <th>departure_diff</th>\n",
       "    </tr>\n",
       "  </thead>\n",
       "  <tbody>\n",
       "    <tr>\n",
       "      <th>0</th>\n",
       "      <td>11 Cherry</td>\n",
       "      <td>Mortensen Road at Lawrence Avenue Eastbound</td>\n",
       "      <td>2022-01-31 17:59:54.0000000 -06:00</td>\n",
       "      <td>2022-01-31 17:58:15.0000000 -06:00</td>\n",
       "      <td>-99.0</td>\n",
       "      <td>2022-01-31 18:00:01.0000000 -06:00</td>\n",
       "      <td>2022-01-31 17:58:15.0000000 -06:00</td>\n",
       "      <td>-106.0</td>\n",
       "    </tr>\n",
       "    <tr>\n",
       "      <th>1</th>\n",
       "      <td>2 Green West</td>\n",
       "      <td>Hyland Avenue at Forest Hills Drive Northbound</td>\n",
       "      <td>2022-01-31 17:59:53.0000000 -06:00</td>\n",
       "      <td>2022-01-31 17:58:50.0000000 -06:00</td>\n",
       "      <td>-63.0</td>\n",
       "      <td>2022-01-31 18:00:01.0000000 -06:00</td>\n",
       "      <td>2022-01-31 17:58:50.0000000 -06:00</td>\n",
       "      <td>-71.0</td>\n",
       "    </tr>\n",
       "    <tr>\n",
       "      <th>2</th>\n",
       "      <td>1 Red East</td>\n",
       "      <td>5th Street at Youth and Shelter Services</td>\n",
       "      <td>2022-01-31 17:59:34.0000000 -06:00</td>\n",
       "      <td>2022-01-31 17:58:20.0000000 -06:00</td>\n",
       "      <td>-74.0</td>\n",
       "      <td>2022-01-31 18:00:02.0000000 -06:00</td>\n",
       "      <td>2022-01-31 17:58:20.0000000 -06:00</td>\n",
       "      <td>-102.0</td>\n",
       "    </tr>\n",
       "    <tr>\n",
       "      <th>3</th>\n",
       "      <td>6 Brown South</td>\n",
       "      <td>Mortensen Parkway at Hayward Avenue Eastbound</td>\n",
       "      <td>2022-01-31 17:59:07.0000000 -06:00</td>\n",
       "      <td>2022-01-31 17:58:40.0000000 -06:00</td>\n",
       "      <td>-27.0</td>\n",
       "      <td>2022-01-31 18:00:11.0000000 -06:00</td>\n",
       "      <td>2022-01-31 17:58:40.0000000 -06:00</td>\n",
       "      <td>-91.0</td>\n",
       "    </tr>\n",
       "    <tr>\n",
       "      <th>4</th>\n",
       "      <td>2 Green East</td>\n",
       "      <td>Hyland Avenue at Ontario Street Southbound</td>\n",
       "      <td>2022-01-31 17:59:43.0000000 -06:00</td>\n",
       "      <td>2022-01-31 17:59:00.0000000 -06:00</td>\n",
       "      <td>-43.0</td>\n",
       "      <td>2022-01-31 18:00:11.0000000 -06:00</td>\n",
       "      <td>2022-01-31 17:59:00.0000000 -06:00</td>\n",
       "      <td>-71.0</td>\n",
       "    </tr>\n",
       "  </tbody>\n",
       "</table>\n",
       "</div>"
      ],
      "text/plain": [
       "       RouteName                                        StopName  \\\n",
       "0      11 Cherry     Mortensen Road at Lawrence Avenue Eastbound   \n",
       "1   2 Green West  Hyland Avenue at Forest Hills Drive Northbound   \n",
       "2     1 Red East        5th Street at Youth and Shelter Services   \n",
       "3  6 Brown South   Mortensen Parkway at Hayward Avenue Eastbound   \n",
       "4   2 Green East      Hyland Avenue at Ontario Street Southbound   \n",
       "\n",
       "                               arrive                    scheduled_arrive  \\\n",
       "0  2022-01-31 17:59:54.0000000 -06:00  2022-01-31 17:58:15.0000000 -06:00   \n",
       "1  2022-01-31 17:59:53.0000000 -06:00  2022-01-31 17:58:50.0000000 -06:00   \n",
       "2  2022-01-31 17:59:34.0000000 -06:00  2022-01-31 17:58:20.0000000 -06:00   \n",
       "3  2022-01-31 17:59:07.0000000 -06:00  2022-01-31 17:58:40.0000000 -06:00   \n",
       "4  2022-01-31 17:59:43.0000000 -06:00  2022-01-31 17:59:00.0000000 -06:00   \n",
       "\n",
       "   arrival_diff                              depart  \\\n",
       "0         -99.0  2022-01-31 18:00:01.0000000 -06:00   \n",
       "1         -63.0  2022-01-31 18:00:01.0000000 -06:00   \n",
       "2         -74.0  2022-01-31 18:00:02.0000000 -06:00   \n",
       "3         -27.0  2022-01-31 18:00:11.0000000 -06:00   \n",
       "4         -43.0  2022-01-31 18:00:11.0000000 -06:00   \n",
       "\n",
       "                     scheduled_depart  departure_diff  \n",
       "0  2022-01-31 17:58:15.0000000 -06:00          -106.0  \n",
       "1  2022-01-31 17:58:50.0000000 -06:00           -71.0  \n",
       "2  2022-01-31 17:58:20.0000000 -06:00          -102.0  \n",
       "3  2022-01-31 17:58:40.0000000 -06:00           -91.0  \n",
       "4  2022-01-31 17:59:00.0000000 -06:00           -71.0  "
      ]
     },
     "execution_count": 29,
     "metadata": {},
     "output_type": "execute_result"
    }
   ],
   "source": [
    "february_2022[['RouteName', 'StopName', 'arrive', 'scheduled_arrive', 'arrival_diff', 'depart', 'scheduled_depart', 'departure_diff']].head()"
   ]
  },
  {
   "cell_type": "code",
   "execution_count": null,
   "metadata": {},
   "outputs": [],
   "source": [
    "february_2022.arrival_diff.describe()"
   ]
  },
  {
   "cell_type": "code",
   "execution_count": null,
   "metadata": {},
   "outputs": [],
   "source": [
    "february_2022.departure_diff.describe()"
   ]
  },
  {
   "cell_type": "code",
   "execution_count": 38,
   "metadata": {},
   "outputs": [
    {
     "data": {
      "text/plain": [
       "Index(['vehicle', 'VehicleName', 'route', 'RouteName', 'pattern',\n",
       "       'PatternName', 'stop', 'StopName', 'trip', 'tripName', 'run', 'runName',\n",
       "       'block', 'arrive', 'scheduled_arrive', 'depart', 'scheduled_depart',\n",
       "       'ons', 'offs', 'arrival_passengers', 'departure_passengers',\n",
       "       'vehicle_capacity', 'departure_diff', 'arrival_diff'],\n",
       "      dtype='object')"
      ]
     },
     "execution_count": 38,
     "metadata": {},
     "output_type": "execute_result"
    }
   ],
   "source": [
    "february_2022.columns"
   ]
  },
  {
   "cell_type": "code",
   "execution_count": 47,
   "metadata": {},
   "outputs": [
    {
     "data": {
      "text/html": [
       "<div>\n",
       "<style scoped>\n",
       "    .dataframe tbody tr th:only-of-type {\n",
       "        vertical-align: middle;\n",
       "    }\n",
       "\n",
       "    .dataframe tbody tr th {\n",
       "        vertical-align: top;\n",
       "    }\n",
       "\n",
       "    .dataframe thead th {\n",
       "        text-align: right;\n",
       "    }\n",
       "</style>\n",
       "<table border=\"1\" class=\"dataframe\">\n",
       "  <thead>\n",
       "    <tr style=\"text-align: right;\">\n",
       "      <th></th>\n",
       "      <th>RouteName</th>\n",
       "      <th>RouteEncoded</th>\n",
       "    </tr>\n",
       "  </thead>\n",
       "  <tbody>\n",
       "    <tr>\n",
       "      <th>0</th>\n",
       "      <td>11 Cherry</td>\n",
       "      <td>2</td>\n",
       "    </tr>\n",
       "    <tr>\n",
       "      <th>1</th>\n",
       "      <td>2 Green West</td>\n",
       "      <td>6</td>\n",
       "    </tr>\n",
       "    <tr>\n",
       "      <th>2</th>\n",
       "      <td>1 Red East</td>\n",
       "      <td>0</td>\n",
       "    </tr>\n",
       "    <tr>\n",
       "      <th>3</th>\n",
       "      <td>6 Brown South</td>\n",
       "      <td>14</td>\n",
       "    </tr>\n",
       "    <tr>\n",
       "      <th>4</th>\n",
       "      <td>2 Green East</td>\n",
       "      <td>5</td>\n",
       "    </tr>\n",
       "    <tr>\n",
       "      <th>5</th>\n",
       "      <td>11 Cherry</td>\n",
       "      <td>2</td>\n",
       "    </tr>\n",
       "    <tr>\n",
       "      <th>6</th>\n",
       "      <td>23 Orange</td>\n",
       "      <td>8</td>\n",
       "    </tr>\n",
       "    <tr>\n",
       "      <th>7</th>\n",
       "      <td>6 Brown North</td>\n",
       "      <td>13</td>\n",
       "    </tr>\n",
       "    <tr>\n",
       "      <th>8</th>\n",
       "      <td>2 Green West</td>\n",
       "      <td>6</td>\n",
       "    </tr>\n",
       "    <tr>\n",
       "      <th>9</th>\n",
       "      <td>1 Red East</td>\n",
       "      <td>0</td>\n",
       "    </tr>\n",
       "  </tbody>\n",
       "</table>\n",
       "</div>"
      ],
      "text/plain": [
       "       RouteName  RouteEncoded\n",
       "0      11 Cherry             2\n",
       "1   2 Green West             6\n",
       "2     1 Red East             0\n",
       "3  6 Brown South            14\n",
       "4   2 Green East             5\n",
       "5      11 Cherry             2\n",
       "6      23 Orange             8\n",
       "7  6 Brown North            13\n",
       "8   2 Green West             6\n",
       "9     1 Red East             0"
      ]
     },
     "execution_count": 47,
     "metadata": {},
     "output_type": "execute_result"
    }
   ],
   "source": [
    "february_2022['RouteEncoded'] = LabelEncoder().fit_transform(february_2022['RouteName'])\n",
    "february_2022[['RouteName', 'RouteEncoded']].head(10)"
   ]
  },
  {
   "cell_type": "markdown",
   "metadata": {},
   "source": [
    "# Machine Learning"
   ]
  },
  {
   "cell_type": "markdown",
   "metadata": {},
   "source": [
    "## Random Forest\n",
    "My first model will be a Random Forest. This is a relitively simple model that will see if there's a correlation between departure diffs and various data points, such as ons, offs, and which route it is."
   ]
  },
  {
   "cell_type": "markdown",
   "metadata": {},
   "source": [
    "### Train/ Test split"
   ]
  },
  {
   "cell_type": "code",
   "execution_count": 53,
   "metadata": {},
   "outputs": [],
   "source": [
    "X = february_2022[['ons', 'offs', 'RouteEncoded']]\n",
    "y = february_2022['departure_diff']\n",
    "\n",
    "train_X, val_X, train_y, val_y = train_test_split(X, y, random_state=0)"
   ]
  },
  {
   "cell_type": "markdown",
   "metadata": {},
   "source": [
    "### Model training"
   ]
  },
  {
   "cell_type": "code",
   "execution_count": 54,
   "metadata": {},
   "outputs": [
    {
     "data": {
      "text/html": [
       "<style>#sk-container-id-2 {color: black;background-color: white;}#sk-container-id-2 pre{padding: 0;}#sk-container-id-2 div.sk-toggleable {background-color: white;}#sk-container-id-2 label.sk-toggleable__label {cursor: pointer;display: block;width: 100%;margin-bottom: 0;padding: 0.3em;box-sizing: border-box;text-align: center;}#sk-container-id-2 label.sk-toggleable__label-arrow:before {content: \"▸\";float: left;margin-right: 0.25em;color: #696969;}#sk-container-id-2 label.sk-toggleable__label-arrow:hover:before {color: black;}#sk-container-id-2 div.sk-estimator:hover label.sk-toggleable__label-arrow:before {color: black;}#sk-container-id-2 div.sk-toggleable__content {max-height: 0;max-width: 0;overflow: hidden;text-align: left;background-color: #f0f8ff;}#sk-container-id-2 div.sk-toggleable__content pre {margin: 0.2em;color: black;border-radius: 0.25em;background-color: #f0f8ff;}#sk-container-id-2 input.sk-toggleable__control:checked~div.sk-toggleable__content {max-height: 200px;max-width: 100%;overflow: auto;}#sk-container-id-2 input.sk-toggleable__control:checked~label.sk-toggleable__label-arrow:before {content: \"▾\";}#sk-container-id-2 div.sk-estimator input.sk-toggleable__control:checked~label.sk-toggleable__label {background-color: #d4ebff;}#sk-container-id-2 div.sk-label input.sk-toggleable__control:checked~label.sk-toggleable__label {background-color: #d4ebff;}#sk-container-id-2 input.sk-hidden--visually {border: 0;clip: rect(1px 1px 1px 1px);clip: rect(1px, 1px, 1px, 1px);height: 1px;margin: -1px;overflow: hidden;padding: 0;position: absolute;width: 1px;}#sk-container-id-2 div.sk-estimator {font-family: monospace;background-color: #f0f8ff;border: 1px dotted black;border-radius: 0.25em;box-sizing: border-box;margin-bottom: 0.5em;}#sk-container-id-2 div.sk-estimator:hover {background-color: #d4ebff;}#sk-container-id-2 div.sk-parallel-item::after {content: \"\";width: 100%;border-bottom: 1px solid gray;flex-grow: 1;}#sk-container-id-2 div.sk-label:hover label.sk-toggleable__label {background-color: #d4ebff;}#sk-container-id-2 div.sk-serial::before {content: \"\";position: absolute;border-left: 1px solid gray;box-sizing: border-box;top: 0;bottom: 0;left: 50%;z-index: 0;}#sk-container-id-2 div.sk-serial {display: flex;flex-direction: column;align-items: center;background-color: white;padding-right: 0.2em;padding-left: 0.2em;position: relative;}#sk-container-id-2 div.sk-item {position: relative;z-index: 1;}#sk-container-id-2 div.sk-parallel {display: flex;align-items: stretch;justify-content: center;background-color: white;position: relative;}#sk-container-id-2 div.sk-item::before, #sk-container-id-2 div.sk-parallel-item::before {content: \"\";position: absolute;border-left: 1px solid gray;box-sizing: border-box;top: 0;bottom: 0;left: 50%;z-index: -1;}#sk-container-id-2 div.sk-parallel-item {display: flex;flex-direction: column;z-index: 1;position: relative;background-color: white;}#sk-container-id-2 div.sk-parallel-item:first-child::after {align-self: flex-end;width: 50%;}#sk-container-id-2 div.sk-parallel-item:last-child::after {align-self: flex-start;width: 50%;}#sk-container-id-2 div.sk-parallel-item:only-child::after {width: 0;}#sk-container-id-2 div.sk-dashed-wrapped {border: 1px dashed gray;margin: 0 0.4em 0.5em 0.4em;box-sizing: border-box;padding-bottom: 0.4em;background-color: white;}#sk-container-id-2 div.sk-label label {font-family: monospace;font-weight: bold;display: inline-block;line-height: 1.2em;}#sk-container-id-2 div.sk-label-container {text-align: center;}#sk-container-id-2 div.sk-container {/* jupyter's `normalize.less` sets `[hidden] { display: none; }` but bootstrap.min.css set `[hidden] { display: none !important; }` so we also need the `!important` here to be able to override the default hidden behavior on the sphinx rendered scikit-learn.org. See: https://github.com/scikit-learn/scikit-learn/issues/21755 */display: inline-block !important;position: relative;}#sk-container-id-2 div.sk-text-repr-fallback {display: none;}</style><div id=\"sk-container-id-2\" class=\"sk-top-container\"><div class=\"sk-text-repr-fallback\"><pre>RandomForestRegressor(random_state=1)</pre><b>In a Jupyter environment, please rerun this cell to show the HTML representation or trust the notebook. <br />On GitHub, the HTML representation is unable to render, please try loading this page with nbviewer.org.</b></div><div class=\"sk-container\" hidden><div class=\"sk-item\"><div class=\"sk-estimator sk-toggleable\"><input class=\"sk-toggleable__control sk-hidden--visually\" id=\"sk-estimator-id-2\" type=\"checkbox\" checked><label for=\"sk-estimator-id-2\" class=\"sk-toggleable__label sk-toggleable__label-arrow\">RandomForestRegressor</label><div class=\"sk-toggleable__content\"><pre>RandomForestRegressor(random_state=1)</pre></div></div></div></div></div>"
      ],
      "text/plain": [
       "RandomForestRegressor(random_state=1)"
      ]
     },
     "execution_count": 54,
     "metadata": {},
     "output_type": "execute_result"
    }
   ],
   "source": [
    "forest_model = RandomForestRegressor(random_state=1)\n",
    "forest_model.fit(train_X, train_y)"
   ]
  },
  {
   "cell_type": "markdown",
   "metadata": {},
   "source": [
    "### Model Predictions and Testing"
   ]
  },
  {
   "cell_type": "code",
   "execution_count": 56,
   "metadata": {},
   "outputs": [
    {
     "name": "stdout",
     "output_type": "stream",
     "text": [
      "238.19425840434047\n"
     ]
    }
   ],
   "source": [
    "predictions = forest_model.predict(val_X)\n",
    "error = mean_absolute_error(val_y, predictions)\n",
    "print(error)\n"
   ]
  }
 ],
 "metadata": {
  "kernelspec": {
   "display_name": "Python 3.11.0 64-bit",
   "language": "python",
   "name": "python3"
  },
  "language_info": {
   "codemirror_mode": {
    "name": "ipython",
    "version": 3
   },
   "file_extension": ".py",
   "mimetype": "text/x-python",
   "name": "python",
   "nbconvert_exporter": "python",
   "pygments_lexer": "ipython3",
   "version": "3.11.0"
  },
  "orig_nbformat": 4,
  "vscode": {
   "interpreter": {
    "hash": "aee8b7b246df8f9039afb4144a1f6fd8d2ca17a180786b69acc140d282b71a49"
   }
  }
 },
 "nbformat": 4,
 "nbformat_minor": 2
}
